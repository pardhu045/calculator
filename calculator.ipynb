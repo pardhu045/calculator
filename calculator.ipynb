{
 "cells": [
  {
   "cell_type": "code",
   "execution_count": null,
   "id": "ac2093b1",
   "metadata": {},
   "outputs": [],
   "source": [
    "import tkinter as tk\n",
    "root = tk.Tk()\n",
    "root.title(\"Calculator\")\n",
    "\n",
    "\n",
    "entry = tk.Entry(root, width=20, borderwidth=5)\n",
    "entry.grid(row=0, column=0, columnspan=4)\n",
    "\n",
    "\n",
    "def button_click(number):\n",
    "    current = entry.get()\n",
    "    entry.delete(0, tk.END)\n",
    "    entry.insert(0, current + str(number))\n",
    "\n",
    "\n",
    "def calculate():\n",
    "    try:\n",
    "        result = eval(entry.get())\n",
    "        entry.delete(0, tk.END)\n",
    "        entry.insert(0, result)\n",
    "    except:\n",
    "        entry.delete(0, tk.END)\n",
    "        entry.insert(0, \"Error\")\n",
    "\n",
    "\n",
    "buttons = [\n",
    "    '7', '8', '9', '/',\n",
    "    '4', '5', '6', '*',\n",
    "    '1', '2', '3', '-',\n",
    "    '0', '.', '=', '+'\n",
    "]\n",
    "\n",
    "row_val = 1\n",
    "col_val = 0\n",
    "\n",
    "for button in buttons:\n",
    "    tk.Button(root, text=button, padx=20, pady=20, command=lambda b=button: button_click(b) if b != '=' else calculate()).grid(row=row_val, column=col_val)\n",
    "    col_val += 1\n",
    "    if col_val > 3:\n",
    "        col_val = 0\n",
    "        row_val += 1\n",
    "\n",
    "\n",
    "root.mainloop()\n"
   ]
  }
 ],
 "metadata": {
  "kernelspec": {
   "display_name": "Python 3 (ipykernel)",
   "language": "python",
   "name": "python3"
  },
  "language_info": {
   "codemirror_mode": {
    "name": "ipython",
    "version": 3
   },
   "file_extension": ".py",
   "mimetype": "text/x-python",
   "name": "python",
   "nbconvert_exporter": "python",
   "pygments_lexer": "ipython3",
   "version": "3.9.13"
  }
 },
 "nbformat": 4,
 "nbformat_minor": 5
}
